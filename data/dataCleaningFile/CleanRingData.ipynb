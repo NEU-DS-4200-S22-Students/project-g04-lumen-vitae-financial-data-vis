{
 "cells": [
  {
   "cell_type": "code",
   "execution_count": 1,
   "metadata": {},
   "outputs": [],
   "source": [
    "import numpy as np\n",
    "import pandas as pd\n",
    "import datetime as dt"
   ]
  },
  {
   "cell_type": "code",
   "execution_count": 2,
   "metadata": {},
   "outputs": [],
   "source": [
    "df_ring_data = pd.read_csv('CircularRingVis.csv')"
   ]
  },
  {
   "cell_type": "code",
   "execution_count": 3,
   "metadata": {},
   "outputs": [
    {
     "data": {
      "text/html": [
       "<div>\n",
       "<style scoped>\n",
       "    .dataframe tbody tr th:only-of-type {\n",
       "        vertical-align: middle;\n",
       "    }\n",
       "\n",
       "    .dataframe tbody tr th {\n",
       "        vertical-align: top;\n",
       "    }\n",
       "\n",
       "    .dataframe thead th {\n",
       "        text-align: right;\n",
       "    }\n",
       "</style>\n",
       "<table border=\"1\" class=\"dataframe\">\n",
       "  <thead>\n",
       "    <tr style=\"text-align: right;\">\n",
       "      <th></th>\n",
       "      <th>Date Started</th>\n",
       "      <th>DN</th>\n",
       "      <th>Children Sponsored</th>\n",
       "      <th>Ambassador</th>\n",
       "      <th>Recurring Amount</th>\n",
       "      <th>One Time Amount</th>\n",
       "      <th>PT</th>\n",
       "      <th>City of Residence</th>\n",
       "      <th>SoR</th>\n",
       "      <th>Region</th>\n",
       "    </tr>\n",
       "  </thead>\n",
       "  <tbody>\n",
       "    <tr>\n",
       "      <td>0</td>\n",
       "      <td>2019/11/1</td>\n",
       "      <td>2</td>\n",
       "      <td>Gycheline Zamor,Marly Orimond</td>\n",
       "      <td>Alejandra Maria Arias</td>\n",
       "      <td>30.0</td>\n",
       "      <td>360.0</td>\n",
       "      <td>Recurring Monthly Donornet</td>\n",
       "      <td>Newmanstown</td>\n",
       "      <td>PA</td>\n",
       "      <td>Philadelphia</td>\n",
       "    </tr>\n",
       "    <tr>\n",
       "      <td>1</td>\n",
       "      <td>2019/11/7</td>\n",
       "      <td>3</td>\n",
       "      <td>Jefferson Riodin,Donaldo Maitre,Michaelle Joha...</td>\n",
       "      <td>NaN</td>\n",
       "      <td>190.0</td>\n",
       "      <td>0.0</td>\n",
       "      <td>Recurring Monthly Donornet</td>\n",
       "      <td>Lincoln Park</td>\n",
       "      <td>NJ</td>\n",
       "      <td>North NJ</td>\n",
       "    </tr>\n",
       "    <tr>\n",
       "      <td>2</td>\n",
       "      <td>2020/1/2</td>\n",
       "      <td>2</td>\n",
       "      <td>Alain Charles Eugene,Magalie Louissaint</td>\n",
       "      <td>NaN</td>\n",
       "      <td>60.0</td>\n",
       "      <td>0.0</td>\n",
       "      <td>Recurring Monthly Donornet</td>\n",
       "      <td>NaN</td>\n",
       "      <td>NaN</td>\n",
       "      <td>South Florida</td>\n",
       "    </tr>\n",
       "    <tr>\n",
       "      <td>3</td>\n",
       "      <td>2020/1/9</td>\n",
       "      <td>1</td>\n",
       "      <td>Rose-Phine Saraphina Noël</td>\n",
       "      <td>NaN</td>\n",
       "      <td>30.0</td>\n",
       "      <td>0.0</td>\n",
       "      <td>Recurring Annual Donornet</td>\n",
       "      <td>Philadelphia</td>\n",
       "      <td>PA</td>\n",
       "      <td>Philadelphia</td>\n",
       "    </tr>\n",
       "    <tr>\n",
       "      <td>4</td>\n",
       "      <td>2020/1/29</td>\n",
       "      <td>1</td>\n",
       "      <td>Christelle Lumene</td>\n",
       "      <td>NaN</td>\n",
       "      <td>30.0</td>\n",
       "      <td>0.0</td>\n",
       "      <td>Recurring Annual Donornet</td>\n",
       "      <td>Coral Springs</td>\n",
       "      <td>FL</td>\n",
       "      <td>South Florida</td>\n",
       "    </tr>\n",
       "    <tr>\n",
       "      <td>...</td>\n",
       "      <td>...</td>\n",
       "      <td>...</td>\n",
       "      <td>...</td>\n",
       "      <td>...</td>\n",
       "      <td>...</td>\n",
       "      <td>...</td>\n",
       "      <td>...</td>\n",
       "      <td>...</td>\n",
       "      <td>...</td>\n",
       "      <td>...</td>\n",
       "    </tr>\n",
       "    <tr>\n",
       "      <td>654</td>\n",
       "      <td>2021/12/18</td>\n",
       "      <td>4</td>\n",
       "      <td>Love Darlie Bejamin,Lourdjina Adelson,Yasmine ...</td>\n",
       "      <td>NaN</td>\n",
       "      <td>NaN</td>\n",
       "      <td>NaN</td>\n",
       "      <td>One Time Donornet</td>\n",
       "      <td>NaN</td>\n",
       "      <td>NaN</td>\n",
       "      <td>Chicago</td>\n",
       "    </tr>\n",
       "    <tr>\n",
       "      <td>655</td>\n",
       "      <td>2021/12/22</td>\n",
       "      <td>1</td>\n",
       "      <td>Obenson Paul</td>\n",
       "      <td>NaN</td>\n",
       "      <td>NaN</td>\n",
       "      <td>NaN</td>\n",
       "      <td>One Time Donornet</td>\n",
       "      <td>Frisco</td>\n",
       "      <td>TX</td>\n",
       "      <td>Dallas</td>\n",
       "    </tr>\n",
       "    <tr>\n",
       "      <td>656</td>\n",
       "      <td>2021/12/28</td>\n",
       "      <td>1</td>\n",
       "      <td>Alette Phalens</td>\n",
       "      <td>NaN</td>\n",
       "      <td>NaN</td>\n",
       "      <td>NaN</td>\n",
       "      <td>One Time Donornet</td>\n",
       "      <td>Reading</td>\n",
       "      <td>PA</td>\n",
       "      <td>Philadelphia</td>\n",
       "    </tr>\n",
       "    <tr>\n",
       "      <td>657</td>\n",
       "      <td>2021/12/30</td>\n",
       "      <td>1</td>\n",
       "      <td>Tracy Carla Constant</td>\n",
       "      <td>NaN</td>\n",
       "      <td>30.0</td>\n",
       "      <td>0.0</td>\n",
       "      <td>Recurring Monthly Donornet</td>\n",
       "      <td>Lansdale</td>\n",
       "      <td>PA</td>\n",
       "      <td>Philadelphia</td>\n",
       "    </tr>\n",
       "    <tr>\n",
       "      <td>658</td>\n",
       "      <td>2022/1/1</td>\n",
       "      <td>1</td>\n",
       "      <td>Valsimond Esperancie</td>\n",
       "      <td>NaN</td>\n",
       "      <td>0.0</td>\n",
       "      <td>360.0</td>\n",
       "      <td>One Time Donornet</td>\n",
       "      <td>Lilburn</td>\n",
       "      <td>GA</td>\n",
       "      <td>Atlanta</td>\n",
       "    </tr>\n",
       "  </tbody>\n",
       "</table>\n",
       "<p>659 rows × 10 columns</p>\n",
       "</div>"
      ],
      "text/plain": [
       "    Date Started  DN                                 Children Sponsored  \\\n",
       "0      2019/11/1   2                      Gycheline Zamor,Marly Orimond   \n",
       "1      2019/11/7   3  Jefferson Riodin,Donaldo Maitre,Michaelle Joha...   \n",
       "2       2020/1/2   2            Alain Charles Eugene,Magalie Louissaint   \n",
       "3       2020/1/9   1                          Rose-Phine Saraphina Noël   \n",
       "4      2020/1/29   1                                  Christelle Lumene   \n",
       "..           ...  ..                                                ...   \n",
       "654   2021/12/18   4  Love Darlie Bejamin,Lourdjina Adelson,Yasmine ...   \n",
       "655   2021/12/22   1                                       Obenson Paul   \n",
       "656   2021/12/28   1                                     Alette Phalens   \n",
       "657   2021/12/30   1                               Tracy Carla Constant   \n",
       "658     2022/1/1   1                               Valsimond Esperancie   \n",
       "\n",
       "                Ambassador  Recurring Amount  One Time Amount  \\\n",
       "0    Alejandra Maria Arias              30.0            360.0   \n",
       "1                      NaN             190.0              0.0   \n",
       "2                      NaN              60.0              0.0   \n",
       "3                      NaN              30.0              0.0   \n",
       "4                      NaN              30.0              0.0   \n",
       "..                     ...               ...              ...   \n",
       "654                    NaN               NaN              NaN   \n",
       "655                    NaN               NaN              NaN   \n",
       "656                    NaN               NaN              NaN   \n",
       "657                    NaN              30.0              0.0   \n",
       "658                    NaN               0.0            360.0   \n",
       "\n",
       "                             PT City of Residence  SoR         Region  \n",
       "0    Recurring Monthly Donornet       Newmanstown   PA   Philadelphia  \n",
       "1    Recurring Monthly Donornet      Lincoln Park   NJ       North NJ  \n",
       "2    Recurring Monthly Donornet               NaN  NaN  South Florida  \n",
       "3     Recurring Annual Donornet      Philadelphia   PA   Philadelphia  \n",
       "4     Recurring Annual Donornet     Coral Springs   FL  South Florida  \n",
       "..                          ...               ...  ...            ...  \n",
       "654           One Time Donornet               NaN  NaN        Chicago  \n",
       "655           One Time Donornet            Frisco   TX         Dallas  \n",
       "656           One Time Donornet           Reading   PA   Philadelphia  \n",
       "657  Recurring Monthly Donornet          Lansdale   PA   Philadelphia  \n",
       "658           One Time Donornet           Lilburn   GA        Atlanta  \n",
       "\n",
       "[659 rows x 10 columns]"
      ]
     },
     "execution_count": 3,
     "metadata": {},
     "output_type": "execute_result"
    }
   ],
   "source": [
    "df_ring_data"
   ]
  },
  {
   "cell_type": "code",
   "execution_count": 4,
   "metadata": {},
   "outputs": [
    {
     "data": {
      "text/plain": [
       "Index(['Date Started', 'DN', 'Children Sponsored', 'Ambassador',\n",
       "       'Recurring Amount', 'One Time Amount', 'PT', 'City of Residence', 'SoR',\n",
       "       'Region'],\n",
       "      dtype='object')"
      ]
     },
     "execution_count": 4,
     "metadata": {},
     "output_type": "execute_result"
    }
   ],
   "source": [
    "df_ring_data.columns"
   ]
  },
  {
   "cell_type": "code",
   "execution_count": 8,
   "metadata": {},
   "outputs": [],
   "source": [
    "df_ring_data_clean = df_ring_data.dropna(subset=['PT', 'SoR'])"
   ]
  },
  {
   "cell_type": "code",
   "execution_count": 11,
   "metadata": {},
   "outputs": [
    {
     "data": {
      "text/plain": [
       "array(['PA', 'NJ', 'FL', 'TX', 'NY', 'NC', 'MD', 'IL', 'VA', 'MA', 'CA',\n",
       "       'AZ', 'WA', 'Pa', 'AR', 'Canada', 'CT', 'NM', 'GA', 'MI', 'OH',\n",
       "       'not provided', 'Not provided', 'Texas', 'UT'], dtype=object)"
      ]
     },
     "execution_count": 11,
     "metadata": {},
     "output_type": "execute_result"
    }
   ],
   "source": [
    "df_ring_data_clean['SoR'].unique()"
   ]
  },
  {
   "cell_type": "code",
   "execution_count": 14,
   "metadata": {},
   "outputs": [],
   "source": [
    "df_ring_data_clean = df_ring_data_clean[df_ring_data_clean['SoR'] != 'Canada']"
   ]
  },
  {
   "cell_type": "code",
   "execution_count": 16,
   "metadata": {},
   "outputs": [],
   "source": [
    "df_ring_data_clean = df_ring_data_clean[df_ring_data_clean['SoR'] != 'not provided']"
   ]
  },
  {
   "cell_type": "code",
   "execution_count": 18,
   "metadata": {},
   "outputs": [],
   "source": [
    "df_ring_data_clean = df_ring_data_clean[df_ring_data_clean['SoR'] != 'Not provided']"
   ]
  },
  {
   "cell_type": "code",
   "execution_count": 20,
   "metadata": {},
   "outputs": [],
   "source": [
    "df_ring_data_clean['SoR'] = df_ring_data_clean['SoR'].replace('Pa','PA')"
   ]
  },
  {
   "cell_type": "code",
   "execution_count": 22,
   "metadata": {},
   "outputs": [],
   "source": [
    "df_ring_data_clean['SoR'] = df_ring_data_clean['SoR'].replace('Texas','TX')"
   ]
  },
  {
   "cell_type": "code",
   "execution_count": null,
   "metadata": {},
   "outputs": [],
   "source": []
  },
  {
   "cell_type": "code",
   "execution_count": 23,
   "metadata": {},
   "outputs": [
    {
     "data": {
      "text/plain": [
       "array(['PA', 'NJ', 'FL', 'TX', 'NY', 'NC', 'MD', 'IL', 'VA', 'MA', 'CA',\n",
       "       'AZ', 'WA', 'AR', 'CT', 'NM', 'GA', 'MI', 'OH', 'UT'], dtype=object)"
      ]
     },
     "execution_count": 23,
     "metadata": {},
     "output_type": "execute_result"
    }
   ],
   "source": [
    "df_ring_data_clean['SoR'].unique()"
   ]
  },
  {
   "cell_type": "code",
   "execution_count": 24,
   "metadata": {},
   "outputs": [],
   "source": [
    "df_ring_data_clean.to_csv('CircularRingVisCleanVersion.csv',index=False)"
   ]
  },
  {
   "cell_type": "code",
   "execution_count": null,
   "metadata": {},
   "outputs": [],
   "source": []
  }
 ],
 "metadata": {
  "kernelspec": {
   "display_name": "Python 3",
   "language": "python",
   "name": "python3"
  },
  "language_info": {
   "codemirror_mode": {
    "name": "ipython",
    "version": 3
   },
   "file_extension": ".py",
   "mimetype": "text/x-python",
   "name": "python",
   "nbconvert_exporter": "python",
   "pygments_lexer": "ipython3",
   "version": "3.7.4"
  }
 },
 "nbformat": 4,
 "nbformat_minor": 4
}
