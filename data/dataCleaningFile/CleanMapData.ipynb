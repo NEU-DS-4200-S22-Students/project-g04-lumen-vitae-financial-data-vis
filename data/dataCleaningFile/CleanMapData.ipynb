{
 "cells": [
  {
   "cell_type": "code",
   "execution_count": 1,
   "metadata": {},
   "outputs": [],
   "source": [
    "import numpy as np\n",
    "import pandas as pd\n",
    "import datetime as dt"
   ]
  },
  {
   "cell_type": "code",
   "execution_count": 2,
   "metadata": {},
   "outputs": [],
   "source": [
    "df_map_data = pd.read_csv('MapVis.csv')"
   ]
  },
  {
   "cell_type": "code",
   "execution_count": 4,
   "metadata": {},
   "outputs": [
    {
     "data": {
      "text/plain": [
       "Index(['Date', 'Contact', 'Campaign', 'Amount', 'City', 'State', 'Gender'], dtype='object')"
      ]
     },
     "execution_count": 4,
     "metadata": {},
     "output_type": "execute_result"
    }
   ],
   "source": [
    "df_map_data.columns"
   ]
  },
  {
   "cell_type": "code",
   "execution_count": 9,
   "metadata": {},
   "outputs": [
    {
     "data": {
      "text/plain": [
       "array(['Child Sponsorship', 'General Charitable Donation',\n",
       "       'Missionary Partnership ', 'Higher Education Sponsorship',\n",
       "       'Race For The Light', 'Relief to Earthquake Victims',\n",
       "       'Missionary Internship Program',\n",
       "       'T Shirt Order - Race For The Light'], dtype=object)"
      ]
     },
     "execution_count": 9,
     "metadata": {},
     "output_type": "execute_result"
    }
   ],
   "source": [
    "df_map_data['Campaign'].unique()"
   ]
  },
  {
   "cell_type": "code",
   "execution_count": 10,
   "metadata": {},
   "outputs": [],
   "source": [
    "df_map_data['Campaign'] = df_map_data['Campaign'].replace('T Shirt Order - Race For The Light','Race For The Light')"
   ]
  },
  {
   "cell_type": "code",
   "execution_count": 11,
   "metadata": {},
   "outputs": [
    {
     "data": {
      "text/plain": [
       "array(['Child Sponsorship', 'General Charitable Donation',\n",
       "       'Missionary Partnership ', 'Higher Education Sponsorship',\n",
       "       'Race For The Light', 'Relief to Earthquake Victims',\n",
       "       'Missionary Internship Program'], dtype=object)"
      ]
     },
     "execution_count": 11,
     "metadata": {},
     "output_type": "execute_result"
    }
   ],
   "source": [
    "df_map_data['Campaign'].unique()"
   ]
  },
  {
   "cell_type": "code",
   "execution_count": 7,
   "metadata": {},
   "outputs": [
    {
     "data": {
      "text/plain": [
       "array(['NY', 'NY ', 'Texas', 'TX', 'Tx', 'Florida ', 'Georgia', 'WA',\n",
       "       'NJ', 'texas', 'Florida', 'IL', 'PA', 'GA', 'Illinois', 'FL', 'tx',\n",
       "       'CA', 'MD', 'Ga', 'OH', 'ca', 'Il', 'CTS', 'California', 'FLorida',\n",
       "       'Pennsylvania', 'MB', 'MI', 'AZ', 'New Jersey', 'Ny', 'Ca', 'Pa',\n",
       "       'Maryland', 'CT', 'Az', 'PA- PENNSYLVANIA', 'Spring',\n",
       "       'Pennsylvania ', 'North Carolina', 'TC', 'fl', 'Michigan ', 'MA',\n",
       "       'Arizona', 'nj', '9738 morefield p', 'Virginia', 'NC', 'pa',\n",
       "       'Georgia ', 'State', 'New York', 'NM', 'Texas ', 'Fl',\n",
       "       'NEW JERSEY', 'Arkansas', 'Manitoba', 'DE', 'VA', 'GA-Georgia',\n",
       "       'GWINNETT', 'Not Provided', 'UT', 'Eastern Province', 'FLORIDA',\n",
       "       'ILLINOIS', 'BC', 'MO', 'Wa', 'Massachusetts', 'CALIFORNIA', 'US',\n",
       "       'Middlesex', 'NoState', 'Nj', 'ON', 'NEW YORK', 'Victoria', 'TN',\n",
       "       'Karnataka', 'ABU DHABI', 'KY', 'AB', 'CAV'], dtype=object)"
      ]
     },
     "execution_count": 7,
     "metadata": {},
     "output_type": "execute_result"
    }
   ],
   "source": [
    "df_map_data['State'].unique()"
   ]
  },
  {
   "cell_type": "code",
   "execution_count": 13,
   "metadata": {},
   "outputs": [],
   "source": [
    "df_map_data['State'] = df_map_data['State'].replace('NY ','NY')"
   ]
  },
  {
   "cell_type": "code",
   "execution_count": 15,
   "metadata": {},
   "outputs": [],
   "source": [
    "df_map_data['State'] = df_map_data['State'].replace('Texas','TX')"
   ]
  },
  {
   "cell_type": "code",
   "execution_count": 17,
   "metadata": {},
   "outputs": [],
   "source": [
    "df_map_data['State'] = df_map_data['State'].replace('Tx','TX')"
   ]
  },
  {
   "cell_type": "code",
   "execution_count": 19,
   "metadata": {},
   "outputs": [],
   "source": [
    "df_map_data['State'] = df_map_data['State'].replace('Florida ','FL')"
   ]
  },
  {
   "cell_type": "code",
   "execution_count": 21,
   "metadata": {},
   "outputs": [],
   "source": [
    "df_map_data['State'] = df_map_data['State'].replace('Georgia','GA')"
   ]
  },
  {
   "cell_type": "code",
   "execution_count": 23,
   "metadata": {},
   "outputs": [],
   "source": [
    "df_map_data['State'] = df_map_data['State'].replace('texas','TX')"
   ]
  },
  {
   "cell_type": "code",
   "execution_count": 25,
   "metadata": {},
   "outputs": [],
   "source": [
    "df_map_data['State'] = df_map_data['State'].replace('Florida','FL')"
   ]
  },
  {
   "cell_type": "code",
   "execution_count": 27,
   "metadata": {},
   "outputs": [],
   "source": [
    "df_map_data['State'] = df_map_data['State'].replace('Illinois','IL')"
   ]
  },
  {
   "cell_type": "code",
   "execution_count": 29,
   "metadata": {},
   "outputs": [],
   "source": [
    "df_map_data['State'] = df_map_data['State'].replace('tx','TX')"
   ]
  },
  {
   "cell_type": "code",
   "execution_count": 31,
   "metadata": {},
   "outputs": [],
   "source": [
    "df_map_data['State'] = df_map_data['State'].replace('Ga','GA')"
   ]
  },
  {
   "cell_type": "code",
   "execution_count": 33,
   "metadata": {},
   "outputs": [],
   "source": [
    "df_map_data['State'] = df_map_data['State'].replace('ca','CA')"
   ]
  },
  {
   "cell_type": "code",
   "execution_count": 35,
   "metadata": {},
   "outputs": [],
   "source": [
    "df_map_data['State'] = df_map_data['State'].replace('CTS','CT')"
   ]
  },
  {
   "cell_type": "code",
   "execution_count": 37,
   "metadata": {},
   "outputs": [],
   "source": [
    "df_map_data['State'] = df_map_data['State'].replace('California','CA')"
   ]
  },
  {
   "cell_type": "code",
   "execution_count": 39,
   "metadata": {},
   "outputs": [],
   "source": [
    "df_map_data['State'] = df_map_data['State'].replace('FLorida','FL')"
   ]
  },
  {
   "cell_type": "code",
   "execution_count": 41,
   "metadata": {},
   "outputs": [],
   "source": [
    "df_map_data['State'] = df_map_data['State'].replace('Pennsylvania','PA')"
   ]
  },
  {
   "cell_type": "code",
   "execution_count": 43,
   "metadata": {},
   "outputs": [],
   "source": [
    "df_map_data['State'] = df_map_data['State'].replace('Il','IL')"
   ]
  },
  {
   "cell_type": "code",
   "execution_count": 45,
   "metadata": {},
   "outputs": [],
   "source": [
    "df_map_data['State'] = df_map_data['State'].replace('New Jersey','NJ')"
   ]
  },
  {
   "cell_type": "code",
   "execution_count": 47,
   "metadata": {},
   "outputs": [],
   "source": [
    "df_map_data['State'] = df_map_data['State'].replace('Ny','NY')"
   ]
  },
  {
   "cell_type": "code",
   "execution_count": 49,
   "metadata": {},
   "outputs": [],
   "source": [
    "df_map_data['State'] = df_map_data['State'].replace('Ca','CA')"
   ]
  },
  {
   "cell_type": "code",
   "execution_count": 51,
   "metadata": {},
   "outputs": [],
   "source": [
    "df_map_data['State'] = df_map_data['State'].replace('Pa','PA')"
   ]
  },
  {
   "cell_type": "code",
   "execution_count": 53,
   "metadata": {},
   "outputs": [],
   "source": [
    "df_map_data['State'] = df_map_data['State'].replace('Maryland','MD')"
   ]
  },
  {
   "cell_type": "code",
   "execution_count": 55,
   "metadata": {},
   "outputs": [],
   "source": [
    "df_map_data['State'] = df_map_data['State'].replace('Az','AZ')"
   ]
  },
  {
   "cell_type": "code",
   "execution_count": 57,
   "metadata": {},
   "outputs": [],
   "source": [
    "df_map_data['State'] = df_map_data['State'].replace('PA- PENNSYLVANIA','PA')"
   ]
  },
  {
   "cell_type": "code",
   "execution_count": 59,
   "metadata": {},
   "outputs": [],
   "source": [
    "df_map_data = df_map_data[df_map_data['State'] != 'Spring']"
   ]
  },
  {
   "cell_type": "code",
   "execution_count": 63,
   "metadata": {},
   "outputs": [],
   "source": [
    "df_map_data['State'] = df_map_data['State'].replace('Pennsylvania ','PA')"
   ]
  },
  {
   "cell_type": "code",
   "execution_count": 67,
   "metadata": {},
   "outputs": [],
   "source": [
    "df_map_data['State'] = df_map_data['State'].replace('North Carolina','NC')"
   ]
  },
  {
   "cell_type": "code",
   "execution_count": 69,
   "metadata": {},
   "outputs": [],
   "source": [
    "df_map_data['State'] = df_map_data['State'].replace('TC','TX')"
   ]
  },
  {
   "cell_type": "code",
   "execution_count": 71,
   "metadata": {},
   "outputs": [],
   "source": [
    "df_map_data['State'] = df_map_data['State'].replace('fl','FL')"
   ]
  },
  {
   "cell_type": "code",
   "execution_count": 75,
   "metadata": {},
   "outputs": [],
   "source": [
    "df_map_data['State'] = df_map_data['State'].replace('Michigan ','MI')"
   ]
  },
  {
   "cell_type": "code",
   "execution_count": 77,
   "metadata": {},
   "outputs": [],
   "source": [
    "df_map_data['State'] = df_map_data['State'].replace('Arizona','AZ')"
   ]
  },
  {
   "cell_type": "code",
   "execution_count": 79,
   "metadata": {},
   "outputs": [],
   "source": [
    "df_map_data['State'] = df_map_data['State'].replace('nj','NJ')"
   ]
  },
  {
   "cell_type": "code",
   "execution_count": 81,
   "metadata": {},
   "outputs": [],
   "source": [
    "df_map_data = df_map_data[df_map_data['State'] != '9738 morefield p']"
   ]
  },
  {
   "cell_type": "code",
   "execution_count": 83,
   "metadata": {},
   "outputs": [],
   "source": [
    "df_map_data['State'] = df_map_data['State'].replace('Virginia','VA')"
   ]
  },
  {
   "cell_type": "code",
   "execution_count": 85,
   "metadata": {},
   "outputs": [],
   "source": [
    "df_map_data['State'] = df_map_data['State'].replace('pa','PA')"
   ]
  },
  {
   "cell_type": "code",
   "execution_count": 91,
   "metadata": {},
   "outputs": [],
   "source": [
    "df_map_data = df_map_data[df_map_data['State'] != 'State']"
   ]
  },
  {
   "cell_type": "code",
   "execution_count": 93,
   "metadata": {},
   "outputs": [],
   "source": [
    "df_map_data['State'] = df_map_data['State'].replace('New York','NY')"
   ]
  },
  {
   "cell_type": "code",
   "execution_count": 107,
   "metadata": {},
   "outputs": [],
   "source": [
    "df_map_data['State'] = df_map_data['State'].replace('GWINNETT','GA')"
   ]
  },
  {
   "cell_type": "code",
   "execution_count": 143,
   "metadata": {},
   "outputs": [],
   "source": [
    "df_map_data = df_map_data[df_map_data['State'] != 'CAV']"
   ]
  },
  {
   "cell_type": "code",
   "execution_count": null,
   "metadata": {},
   "outputs": [],
   "source": []
  },
  {
   "cell_type": "code",
   "execution_count": null,
   "metadata": {},
   "outputs": [],
   "source": []
  },
  {
   "cell_type": "code",
   "execution_count": 144,
   "metadata": {},
   "outputs": [
    {
     "data": {
      "text/plain": [
       "array(['NY', 'TX', 'FL', 'GA', 'WA', 'NJ', 'IL', 'PA', 'CA', 'MD', 'OH',\n",
       "       'CT', 'MB', 'MI', 'AZ', 'NC', 'MA', 'VA', 'NM', 'AR', 'DE', 'UT',\n",
       "       'MO', 'TN', 'KA', 'KY', 'AB'], dtype=object)"
      ]
     },
     "execution_count": 144,
     "metadata": {},
     "output_type": "execute_result"
    }
   ],
   "source": [
    "df_map_data['State'].unique()"
   ]
  },
  {
   "cell_type": "code",
   "execution_count": 145,
   "metadata": {},
   "outputs": [
    {
     "data": {
      "text/plain": [
       "Index(['Date', 'Contact', 'Campaign', 'Amount', 'City', 'State', 'Gender'], dtype='object')"
      ]
     },
     "execution_count": 145,
     "metadata": {},
     "output_type": "execute_result"
    }
   ],
   "source": [
    "df_map_data.columns"
   ]
  },
  {
   "cell_type": "code",
   "execution_count": 150,
   "metadata": {},
   "outputs": [
    {
     "data": {
      "text/plain": [
       "array(['NY', 'TX', 'FL', 'GA', 'WA', 'NJ', 'IL', 'PA', 'CA', 'MD', 'OH',\n",
       "       'CT', 'MB', 'MI', 'AZ', 'NC', 'MA', 'VA', 'NM', 'AR', 'DE', 'UT',\n",
       "       'MO', 'TN', 'KA', 'KY', 'AB'], dtype=object)"
      ]
     },
     "execution_count": 150,
     "metadata": {},
     "output_type": "execute_result"
    }
   ],
   "source": [
    "df_map_data['State'].unique()"
   ]
  },
  {
   "cell_type": "code",
   "execution_count": 151,
   "metadata": {},
   "outputs": [],
   "source": [
    "df_map_data.to_csv('MapVisClean.csv',index=False)"
   ]
  },
  {
   "cell_type": "code",
   "execution_count": null,
   "metadata": {},
   "outputs": [],
   "source": []
  }
 ],
 "metadata": {
  "kernelspec": {
   "display_name": "Python 3",
   "language": "python",
   "name": "python3"
  },
  "language_info": {
   "codemirror_mode": {
    "name": "ipython",
    "version": 3
   },
   "file_extension": ".py",
   "mimetype": "text/x-python",
   "name": "python",
   "nbconvert_exporter": "python",
   "pygments_lexer": "ipython3",
   "version": "3.7.4"
  }
 },
 "nbformat": 4,
 "nbformat_minor": 4
}
